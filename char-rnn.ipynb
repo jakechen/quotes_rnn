{
 "cells": [
  {
   "cell_type": "code",
   "execution_count": 1,
   "metadata": {
    "collapsed": false
   },
   "outputs": [
    {
     "name": "stdout",
     "output_type": "stream",
     "text": [
      "TensorFlow version: 0.10.0\n"
     ]
    }
   ],
   "source": [
    "import tensorflow as tf\n",
    "print 'TensorFlow version:', tf.__version__\n",
    "import numpy as np\n",
    "from tqdm import tqdm"
   ]
  },
  {
   "cell_type": "markdown",
   "metadata": {},
   "source": [
    "# Character Level RNN on Startup Quotes"
   ]
  },
  {
   "cell_type": "markdown",
   "metadata": {},
   "source": [
    "## Introduction"
   ]
  },
  {
   "cell_type": "markdown",
   "metadata": {},
   "source": [
    "Inspired by [@karpathy](https://github.com/karpathy)'s char-rnn but written in TensorFlow.\n",
    "\n",
    "In this example notebook we will be training on startup quotes sourced from this tsv: https://github.com/startuptxt/startuptxt.github.io/blob/master/quotes.tsv"
   ]
  },
  {
   "cell_type": "markdown",
   "metadata": {},
   "source": [
    "## Prepare the Data"
   ]
  },
  {
   "cell_type": "markdown",
   "metadata": {},
   "source": [
    "### Download"
   ]
  },
  {
   "cell_type": "code",
   "execution_count": 2,
   "metadata": {
    "collapsed": true
   },
   "outputs": [],
   "source": [
    "#f = open('./shakespear.txt', 'rU')\n",
    "f = open('./quotes.tsv', 'rU')\n",
    "lines = f.readlines()\n",
    "f.close()"
   ]
  },
  {
   "cell_type": "code",
   "execution_count": 3,
   "metadata": {
    "collapsed": false
   },
   "outputs": [
    {
     "name": "stdout",
     "output_type": "stream",
     "text": [
      "['If you want to teach people a new way of thinking, don\\xe2\\x80\\x99t bother trying to teach them. Instead, give them a tool, the use of which will lead to new ways of thinking.', 'When I am working on a problem, I never think about beauty\\xe2\\x80\\xa6\\xe2\\x80\\xa6.. but when I have finished, if the solution is not beautiful, I know it is wrong.', 'Humans beings always do the most intelligent thing\\xe2\\x80\\xa6after they\\xe2\\x80\\x99ve tried every stupid alternative and none of them have worked.', 'I just invent, then wait until man comes around to needing what I\\xe2\\x80\\x99ve invented.', 'I\\xe2\\x80\\x99m not a genius. I\\xe2\\x80\\x99m just a tremendous bundle of experience.']\n"
     ]
    }
   ],
   "source": [
    "quotes = [line.split('\\t')[0] for line in lines]\n",
    "print quotes[:5]"
   ]
  },
  {
   "cell_type": "code",
   "execution_count": 4,
   "metadata": {
    "collapsed": true
   },
   "outputs": [],
   "source": [
    "raw_input_string = '\\n'.join(quotes)"
   ]
  },
  {
   "cell_type": "code",
   "execution_count": 5,
   "metadata": {
    "collapsed": false
   },
   "outputs": [
    {
     "data": {
      "text/plain": [
       "'If you want to teach people a new way of thinking, don\\xe2\\x80\\x99t bother trying to teach them. Instead, give them a tool, the use of which will lead to new ways of thinking.\\nWhen I am working on a problem, I never think about beauty\\xe2\\x80\\xa6\\xe2\\x80\\xa6.. but when I have finished, if the solution is not beautiful, I know it is wrong.\\nHumans beings always do the most intelligent thing\\xe2\\x80\\xa6after they\\xe2\\x80\\x99ve tried every stupid alternative and none of them have worked.\\nI just invent, then wait until man comes around to needing what I\\xe2\\x80\\x99ve invented.\\nI\\xe2\\x80\\x99m not a genius. I\\xe2\\x80\\x99m just a tremendous bundle of experience.\\nThere is no such thing as a failed experiment, only experiments with unexpected outcomes.\\nReal wealth is ideas plus energy.\\nIntegrity is the essence of everything successful.\\nThere is nothing in a caterpillar that tells you it\\xe2\\x80\\x99s going to be a butterfly.\\nControlled time is our true wealth.\\nOur power is in our ability to decide.\\nDo fewer things, better.\\nHard lesson for first-time tech founders to learn: great product serves its users, not its creators.\\nI am always doing things I can\\xe2\\x80\\x99t do. That\\xe2\\x80\\x99s how I get to do them.\\nFailure is success in progress.\\nDon\\xe2\\x80\\x99t be too timid and squeamish about your actions. All life is an experiment. The more experiments you make the better.\\nNothing is particularly hard if you divide it into small jobs.\\nMost people spend more time and energy going around problems than in trying to solve them.\\nMoney is like an arm or leg \\xe2\\x80\\x93 use it or lose it.\\nObstacles are those frightful things you see when you take your eyes off your goal.\\nOne of the greatest discoveries a man makes, one of his great surprises, is to find he can do what he was afraid he couldn\\xe2\\x80\\x99t do.\\nHe can who thinks he can, and he can\\xe2\\x80\\x99t who thinks he can\\xe2\\x80\\x99t. This is an inexorable, indisputable law.\\nQuality means doing it right when no one is looking.\\nA business absolutely devoted to service will have only one worry about profits. They will be embarrassingly large.\\nIf there is any one secret of success, it lies in the ability to get the other person\\xe2\\x80\\x99s point of view and see things from that person\\xe2\\x80\\x99s angle as well as from your own.\\nThe only real mistake is the one from which we learn nothing.\\nAnyone who stops learning is old, whether at twenty or eighty.  Anyone who keeps learning stays young.\\nDon\\xe2\\x80\\x99t find fault, find a remedy.\\nComing together is a beginning; keeping together is progress; working together is success.\\nYou can\\xe2\\x80\\x99t build a reputation on what you are going to do.\\nFailure is simply the opportunity to begin again, this time more intelligently.\\nThe short successes that can be gained in a brief time and without difficulty, are not worth much.\\nBusinesses that grow by development and improvement do not die.\\nThere is safety in small beginnings and there is unlimited capital in the experience gained by growing.\\nWhatever your goal in life, the beginning is knowledge and experience \\xe2\\x80\\x93 or, briefly work.\\nI don\\xe2\\x80\\x99t know anybody so old he can\\xe2\\x80\\x99t do something useful. Just give them a chance and see.\\nThe basically simple things are best, whether it\\xe2\\x80\\x99s automobiles or diets or philosophy.\\nCompetition is the lifeblood of industry.\\nA man\\xe2\\x80\\x99s college and university degrees mean nothing to me until I see what he is able to do with them.\\nGreatest thing in life is experience. Even mistakes have value.\\nThe unhappiest man on earth is the one who has nothing to do.\\nLife, as I see it, is not a location, but a journey. Life flows.\\nI don\\xe2\\x80\\x99t expect to retire. Every man must work, that\\xe2\\x80\\x99s his natural destiny.\\nOnly one thing makes prosperity, and that is work.\\nWorry is the most wasteful thing in the world.\\nAnyone who does anything useful will not go unpaid.\\nI don\\xe2\\x80\\x99t read history. That\\xe2\\x80\\x99s in the past. I\\xe2\\x80\\x99m thinking of the future.\\nIf you find out what men want and give them that, you are pleasing them. If you find out what is good for them and give them that, you are performing a service. That\\xe2\\x80\\x99s what we are trying to do.\\nEvery business is a monarchy with, not a man, but an idea as king.\\nThe best way to make money in business is not to think too much about making it.\\nIn the long run people are going to buy the cheapest and the best article no matter where it is made.\\nThe best way is always the simplest.  The attics of the world are cluttered up with complicated failures.\\nMoney will ruin the life of any man who treats it like anything but a tool with which to work.\\nThree rules for a career: 1) Don\\xe2\\x80\\x99t sell anything you wouldn\\xe2\\x80\\x99t buy yourself; 2) Don\\xe2\\x80\\x99t work for anyone you don\\xe2\\x80\\x99t respect and admire; and 3) Work only with people you enjoy.\\nYou don\\xe2\\x80\\x99t have to be brilliant, only a little bit wiser than the other guys, on average, for a long, long time.\\nSpend less than you make; always be saving something. Put it into a tax-deferred account. Over time, it will begin to amount to something. This is such a no-brainer.\\nChoose clients as you would friends.\\nLife in part is like a poker game, wherein you have to learn to quit sometimes when holding a much l'"
      ]
     },
     "execution_count": 5,
     "metadata": {},
     "output_type": "execute_result"
    }
   ],
   "source": [
    "raw_input_string[:5000]"
   ]
  },
  {
   "cell_type": "markdown",
   "metadata": {},
   "source": [
    "### Pre-process"
   ]
  },
  {
   "cell_type": "markdown",
   "metadata": {},
   "source": [
    "One-hot encoding for each character."
   ]
  },
  {
   "cell_type": "code",
   "execution_count": 6,
   "metadata": {
    "collapsed": false
   },
   "outputs": [
    {
     "data": {
      "text/plain": [
       "DictVectorizer(dtype=<type 'numpy.float64'>, separator='=', sort=True,\n",
       "        sparse=False)"
      ]
     },
     "execution_count": 6,
     "metadata": {},
     "output_type": "execute_result"
    }
   ],
   "source": [
    "# Create one-hot mapping by tricking sklearn's DictVectorizer\n",
    "from sklearn.feature_extraction import DictVectorizer\n",
    "v = DictVectorizer(sparse=False)\n",
    "unique_chars = set(raw_input_string)\n",
    "# Build a dict that looks like [{'a':1}, {'b':1}, {'c':1}, ...]\n",
    "D = [{char:1} for char in unique_chars]\n",
    "# \n",
    "v.fit(D)"
   ]
  },
  {
   "cell_type": "code",
   "execution_count": 7,
   "metadata": {
    "collapsed": false
   },
   "outputs": [],
   "source": [
    "def encode_string(string):\n",
    "    out = []\n",
    "    for char in string:\n",
    "        vec = v.transform({char: 1})[0]\n",
    "        out.append(vec) # returns the one-hot array associated with the character\n",
    "    return np.array(out)"
   ]
  },
  {
   "cell_type": "code",
   "execution_count": 8,
   "metadata": {
    "collapsed": false
   },
   "outputs": [
    {
     "data": {
      "text/plain": [
       "array([[ 0.,  0.,  0.,  0.,  0.,  0.,  0.,  0.,  0.,  0.,  0.,  0.,  0.,\n",
       "         0.,  0.,  0.,  0.,  0.,  0.,  0.,  0.,  0.,  0.,  0.,  0.,  0.,\n",
       "         0.,  0.,  0.,  0.,  0.,  0.,  0.,  0.,  0.,  1.,  0.,  0.,  0.,\n",
       "         0.,  0.,  0.,  0.,  0.,  0.,  0.,  0.,  0.,  0.,  0.,  0.,  0.,\n",
       "         0.,  0.,  0.,  0.,  0.,  0.,  0.,  0.,  0.,  0.,  0.,  0.,  0.,\n",
       "         0.,  0.,  0.,  0.,  0.,  0.,  0.,  0.,  0.,  0.,  0.,  0.,  0.,\n",
       "         0.,  0.,  0.,  0.,  0.,  0.,  0.,  0.,  0.,  0.,  0.,  0.,  0.],\n",
       "       [ 0.,  0.,  0.,  0.,  0.,  0.,  0.,  0.,  0.,  0.,  0.,  0.,  0.,\n",
       "         0.,  0.,  0.,  0.,  0.,  0.,  0.,  0.,  0.,  0.,  0.,  0.,  0.,\n",
       "         0.,  0.,  0.,  0.,  0.,  0.,  0.,  0.,  0.,  0.,  0.,  0.,  0.,\n",
       "         0.,  0.,  0.,  0.,  0.,  0.,  0.,  0.,  0.,  0.,  0.,  0.,  0.,\n",
       "         0.,  0.,  0.,  0.,  0.,  0.,  0.,  1.,  0.,  0.,  0.,  0.,  0.,\n",
       "         0.,  0.,  0.,  0.,  0.,  0.,  0.,  0.,  0.,  0.,  0.,  0.,  0.,\n",
       "         0.,  0.,  0.,  0.,  0.,  0.,  0.,  0.,  0.,  0.,  0.,  0.,  0.]])"
      ]
     },
     "execution_count": 8,
     "metadata": {},
     "output_type": "execute_result"
    }
   ],
   "source": [
    "example_enc = encode_string(\"If you\\nwant\")\n",
    "# The string \"If\" after one-hot encoding\n",
    "example_enc[:2]"
   ]
  },
  {
   "cell_type": "code",
   "execution_count": 9,
   "metadata": {
    "collapsed": false
   },
   "outputs": [
    {
     "data": {
      "text/plain": [
       "(11, 91)"
      ]
     },
     "execution_count": 9,
     "metadata": {},
     "output_type": "execute_result"
    }
   ],
   "source": [
    "example_enc.shape"
   ]
  },
  {
   "cell_type": "code",
   "execution_count": 10,
   "metadata": {
    "collapsed": true
   },
   "outputs": [],
   "source": [
    "def decode_string(string):\n",
    "    out = []\n",
    "    for char in string:\n",
    "        char_dict = v.inverse_transform(char.reshape(1, -1))[0] # returns the dict associated with the character e.g. {'I': 1}\n",
    "        out += char_dict.keys()[0] # append the key, which is the character we want e.g. 'I'\n",
    "    return ''.join(out) # join the characters together to form the decoded string"
   ]
  },
  {
   "cell_type": "code",
   "execution_count": 11,
   "metadata": {
    "collapsed": false
   },
   "outputs": [
    {
     "data": {
      "text/plain": [
       "'If you\\nwant'"
      ]
     },
     "execution_count": 11,
     "metadata": {},
     "output_type": "execute_result"
    }
   ],
   "source": [
    "decode_string(example_enc)"
   ]
  },
  {
   "cell_type": "markdown",
   "metadata": {},
   "source": [
    "### Inputs and Placeholders"
   ]
  },
  {
   "cell_type": "code",
   "execution_count": 12,
   "metadata": {
    "collapsed": true
   },
   "outputs": [],
   "source": [
    "# Training Parameters\n",
    "learning_rate = 0.001\n",
    "training_iters = 100000\n",
    "batch_size = 100"
   ]
  },
  {
   "cell_type": "code",
   "execution_count": 13,
   "metadata": {
    "collapsed": true
   },
   "outputs": [],
   "source": [
    "# Network Parameters\n",
    "n_input = len(unique_chars) # Length of one-hot encoded vectors i.e. which is also the number of unique characters\n",
    "n_output = n_input # The characters we feed the NN are the same characters it will be outputting\n",
    "n_steps = 25 # Number of previous characters to look at\n",
    "n_hidden = 200 # Number of nodes in each hidden layer\n",
    "#n_layers = 3 # Number of hidden layers"
   ]
  },
  {
   "cell_type": "code",
   "execution_count": 14,
   "metadata": {
    "collapsed": false
   },
   "outputs": [],
   "source": [
    "# tf Graph input\n",
    "x = tf.placeholder(\"float\", [None, n_steps, n_input])\n",
    "y = tf.placeholder(\"float\", [None, n_output])\n",
    "\n",
    "# Define weights\n",
    "weights = {\n",
    "    'out': tf.Variable(tf.random_normal([n_hidden, n_output]))\n",
    "}\n",
    "biases = {\n",
    "    'out': tf.Variable(tf.random_normal([n_output]))\n",
    "}"
   ]
  },
  {
   "cell_type": "markdown",
   "metadata": {},
   "source": [
    "## Build the Graph"
   ]
  },
  {
   "cell_type": "markdown",
   "metadata": {},
   "source": [
    "### Inference"
   ]
  },
  {
   "cell_type": "code",
   "execution_count": 15,
   "metadata": {
    "collapsed": false
   },
   "outputs": [],
   "source": [
    "# Define a lstm cell with tensorflow\n",
    "cell = tf.nn.rnn_cell.BasicLSTMCell(n_hidden, forget_bias=1.0, state_is_tuple=True)\n",
    "#cell = tf.nn.rnn_cell.MultiRNNCell([cell] * n_layers, state_is_tuple=True)"
   ]
  },
  {
   "cell_type": "code",
   "execution_count": 16,
   "metadata": {
    "collapsed": false
   },
   "outputs": [],
   "source": [
    "# Get lstm cell outputs\n",
    "outputs, states = tf.nn.dynamic_rnn(cell, x, dtype=tf.float32)\n",
    "outputs = tf.transpose(outputs, [1, 0, 2])\n",
    "last = tf.gather(outputs, int(outputs.get_shape()[0]) - 1)"
   ]
  },
  {
   "cell_type": "code",
   "execution_count": 17,
   "metadata": {
    "collapsed": false
   },
   "outputs": [],
   "source": [
    "# Linear activation, using rnn inner loop last output\n",
    "pred = tf.matmul(last, weights['out']) + biases['out']"
   ]
  },
  {
   "cell_type": "markdown",
   "metadata": {},
   "source": [
    "### Loss & Optimizer"
   ]
  },
  {
   "cell_type": "code",
   "execution_count": 18,
   "metadata": {
    "collapsed": false
   },
   "outputs": [
    {
     "name": "stderr",
     "output_type": "stream",
     "text": [
      "/home/jake/anaconda2/envs/tensorflow/lib/python2.7/site-packages/tensorflow/python/ops/gradients.py:90: UserWarning: Converting sparse IndexedSlices to a dense Tensor of unknown shape. This may consume a large amount of memory.\n",
      "  \"Converting sparse IndexedSlices to a dense Tensor of unknown shape. \"\n"
     ]
    }
   ],
   "source": [
    "cost = tf.reduce_mean(tf.nn.softmax_cross_entropy_with_logits(pred, y))\n",
    "optimizer = tf.train.AdamOptimizer(learning_rate=learning_rate).minimize(cost)"
   ]
  },
  {
   "cell_type": "markdown",
   "metadata": {},
   "source": [
    "## Train the Model"
   ]
  },
  {
   "cell_type": "code",
   "execution_count": 19,
   "metadata": {
    "collapsed": true
   },
   "outputs": [],
   "source": [
    "# start our tensorflow session\n",
    "sess = tf.Session()\n",
    "# initialize the varsriables we defined above\n",
    "init = tf.initialize_all_variables()\n",
    "sess.run(init)"
   ]
  },
  {
   "cell_type": "code",
   "execution_count": 20,
   "metadata": {
    "collapsed": false
   },
   "outputs": [],
   "source": [
    "# define a function that outputs two arrays:\n",
    "# 1. batch_x - an array with shape (n, t, m) where n=batch_size, t=number of characters aka time-steps, and m=length of one-hot character vector\n",
    "# 2. batch_y - an array with shape (n, m) where n=batch_size and m=length one-hot character vector\n",
    "def next_batch(string, batch_size=75, n_steps=50):\n",
    "    batch_x = []\n",
    "    batch_y = []\n",
    "    i_ys = np.random.randint(n_steps, len(string), size=batch_size) # e.g. i_ys=np.array([25, 50, 75])\n",
    "    for i_y in i_ys:\n",
    "        i_x_end = i_y # e.g. i_x_end = i_y = 25\n",
    "        if i_x_end-n_steps < 0:\n",
    "            i_x_start = 0 # e.g. i_start = 0\n",
    "        else:\n",
    "            i_x_start = i_x_end-n_steps\n",
    "        string_x = string[i_x_start:i_x_end] # e.g. string[0:25]\n",
    "        string_y = string[i_y] # e.g. string[25]\n",
    "        vec_x = encode_string(string_x)\n",
    "        vec_y = encode_string(string_y)\n",
    "        batch_x.append(vec_x)\n",
    "        batch_y.append(vec_y[0])\n",
    "    return np.array(batch_x), np.array(batch_y)"
   ]
  },
  {
   "cell_type": "code",
   "execution_count": 21,
   "metadata": {
    "collapsed": false
   },
   "outputs": [
    {
     "name": "stdout",
     "output_type": "stream",
     "text": [
      "(1, 75, 91)\n",
      "'on who says it cannot be done should not interrupt the man doing it.\\nBuildi'\n",
      "(1, 91)\n",
      "'n'\n"
     ]
    }
   ],
   "source": [
    "# Test the next_batch function\n",
    "batch_x, batch_y = next_batch(raw_input_string, 1, 75)\n",
    "print batch_x.shape\n",
    "print repr(decode_string(batch_x[0]))\n",
    "print batch_y.shape\n",
    "print repr(decode_string(batch_y))"
   ]
  },
  {
   "cell_type": "code",
   "execution_count": 22,
   "metadata": {
    "collapsed": false
   },
   "outputs": [
    {
     "name": "stderr",
     "output_type": "stream",
     "text": [
      "100%|██████████| 100000/100000 [45:48<00:00, 37.54it/s]\n"
     ]
    }
   ],
   "source": [
    "for i in tqdm(range(training_iters)):\n",
    "#for i in range(training_iters):\n",
    "    # Get the next batch of training data\n",
    "    batch_x, batch_y = next_batch(raw_input_string, batch_size, n_steps)\n",
    "    # Run optimization op (backprop)\n",
    "    sess.run(optimizer, feed_dict={x: batch_x, y: batch_y})"
   ]
  },
  {
   "cell_type": "markdown",
   "metadata": {},
   "source": [
    "## Evaluate the Model"
   ]
  },
  {
   "cell_type": "code",
   "execution_count": 23,
   "metadata": {
    "collapsed": true
   },
   "outputs": [],
   "source": [
    "correct_pred = tf.equal(tf.argmax(pred,1), tf.argmax(y,1))\n",
    "accuracy = tf.reduce_mean(tf.cast(correct_pred, tf.float32))"
   ]
  },
  {
   "cell_type": "code",
   "execution_count": 24,
   "metadata": {
    "collapsed": false
   },
   "outputs": [
    {
     "name": "stdout",
     "output_type": "stream",
     "text": [
      "Testing Accuracy: 0.96\n"
     ]
    }
   ],
   "source": [
    "test_x, test_y = next_batch(raw_input_string, 250, n_steps)\n",
    "print \"Testing Accuracy:\", \\\n",
    "    sess.run(accuracy, feed_dict={x: test_x, y: test_y})"
   ]
  },
  {
   "cell_type": "markdown",
   "metadata": {},
   "source": [
    "## Predict some Text"
   ]
  },
  {
   "cell_type": "code",
   "execution_count": 25,
   "metadata": {
    "collapsed": true
   },
   "outputs": [],
   "source": [
    "n_chars = 5000"
   ]
  },
  {
   "cell_type": "code",
   "execution_count": 26,
   "metadata": {
    "collapsed": true
   },
   "outputs": [],
   "source": [
    "op_pred_char = tf.argmax(pred, 1)"
   ]
  },
  {
   "cell_type": "code",
   "execution_count": 27,
   "metadata": {
    "collapsed": false
   },
   "outputs": [
    {
     "name": "stdout",
     "output_type": "stream",
     "text": [
      "' make money in business i'\n"
     ]
    }
   ],
   "source": [
    "# Build initial seed string\n",
    "i = np.random.randint(0, 5000)\n",
    "seed_string = raw_input_string[i:(i+n_steps)]\n",
    "print repr(seed_string)"
   ]
  },
  {
   "cell_type": "code",
   "execution_count": 28,
   "metadata": {
    "collapsed": false
   },
   "outputs": [
    {
     "name": "stderr",
     "output_type": "stream",
     "text": [
      "100%|██████████| 5000/5000 [00:20<00:00, 239.35it/s]"
     ]
    },
    {
     "name": "stdout",
     "output_type": "stream",
     "text": [
      " make money in business is not to think too much about making it.\n",
      "In the live one of the mapyop.\n",
      "If you revended in the life one who do is the other gay find of ometan. You need to pat a toung, them happyoro shisting is fun. It’s the heriest strentige of fun.aGion and start timponfict and then sochally progrosting provect.\n",
      "All there profinisy of the customer problem. I never too make small by profits – pasisisning progrosm.\n",
      "If you want to be great, this is the challenge. If you don’t want to be great, then you never should have started excleen that startups are feed.\n",
      "Make hard you need to chan a lit lead time than go alout funure. People don’t proped because it is and they are the eass farle ar ineas are lister time.\n",
      "Mode comisteas a sign of impact to the many you\n",
      " and diserse and many come from decian, newing stranging people that work in shord. Don’t think it was can to take things that are to lest people who secheal. It the telling in the better. The ust making stlembided by seemediday. Ack on you’re compostible, don’t busy one thing, that’s possible.\n",
      "The most sare, it alamy daf, It’s faith in always hard tood procrastination, about has, you have to be when you take that anything. Your putap.\n",
      "Kilf done I won�to much and are the only way to created fit them more wetheed.\n",
      "You don’t have to start from scratch to have a market diress.” An imploye is alleaded many.\n",
      "One of successful poserives from failion. For all. One triented is prepared fat our drides, it will do something many. That conls offiling with strablemen. I don’t think about it what or a lot of day of the hoady.\n",
      "The most important all the product ashiever dettinspinstrations. That’s it, but misking trackle.\n",
      "Crotting is the most important thing in my life other than my family.\n",
      "Remember: You’ll be left with an emplement. The ansidurs when you didn’t do thing out of what you don’t know. If you don’t know what you don’t know. When you acknowledge your weaknesses and ask failure going about it.\n",
      "In the leaders to accomplish a fort each othervess, but how to not a mainable people, you’re try to be really stays they don’t get come.\n",
      "In madge like I keep probless. I as easner for must and a llowerard\n",
      "avow things in cheress make op or do more is a to talk you do it. You can design a daping, some now on a customer product to be competite or ally gett to do something – andwerf then how to be a CEO – it’s a learned skill and unfortunate the idea of everything and start is to try attersty-scaped because they don’t have to be a product abori.\n",
      "I speres are cortalior.\n",
      "I have he don’t do thalle.\n",
      "Create the mist perfor in, of doness, no from far, because selite the small to be capate as small about is, and that they say the started is the day on the started.\n",
      "Hard who do something you thinking nob.\n",
      "Whe master provocts when they happy do what seever they can act ent.\n",
      "There are many can cull ure, werrelyw and rime, it’s that makese does. The best is you want so thise and enouge. It’s about be if destry. hard feall statement. Anyone wise competitors actually successful part of the money to out of the statch concited in feeding fule.\n",
      "If you fundre muttop with worth a destiny.\n",
      "The money are lost time and you’re not just going to show anything users as a lot of downts and and working ous move on.\n",
      "Peama once after and more connect dan, you have to continuating to try to is throw it is easeer diewards.\n",
      "The this porisients are achuod be theredsy of the talkit. When you have to be a winning a buller and money is ‘Ih’s kerwarky.\n",
      "Comingectstop, shoutare and feel like successfilur better than sugarcoms heap business is what makes it fears from them.\n",
      "Betterving an achienc. You can’t completely faved a decisionstrs. And what you start is, more elpething success, more that’s whe hard those fundamentable befere your creativity to be when you take the complosement to make sure for evented yburelise.\n",
      "Re every strentige will convent to reach of the day when I want to do our was over a sofe the thing, that consthey ‘pounamissimpless what wall as a gut, you’ll a too of shownents.\n",
      "We have to push a single pasoblened in the viln in one is — a rot made of progrcustination, about have and sinn resing in life in ever is hun becoming aloe build it.\n",
      "The trich isn’t addars is the about is that for logens iss failh, it’s a really to get a sitivias you have this is the other happen. You work fast in come undires.\n",
      "If you are yoursed appoilizity.\n",
      "The bigicish cash for fundadatement. And you’ll nes always \n",
      "I the earner sare, not to says, the they don’t exply attinndmaringorescurs what the tools and do.\n",
      "Onew your product, you are possible not good people, because if you learn a success about the toped.\n",
      "Don’t rivish. Not wis hating fundidg, and anything ysk. When you don’t know so ith hell is really now things that you have to be capited soment.\n",
      "A lot of paying what happen again.\n",
      "The Musioder foal you are uspers never as worth that is like a most\n"
     ]
    },
    {
     "name": "stderr",
     "output_type": "stream",
     "text": [
      "\n"
     ]
    }
   ],
   "source": [
    "# Loop throught the following steps:\n",
    "# 1. Grab the last t characters\n",
    "# 2. Predict and append the next letter\n",
    "# 3. Repeat steps 1-2 until the limit is reached\n",
    "for i in tqdm(range(n_chars)):\n",
    "    # Encode last t characters of seed string\n",
    "    new_seed = seed_string[-n_steps:]\n",
    "    enc_seed = np.array([encode_string(new_seed)]) # transform into shape=[1, 50, 91]\n",
    "\n",
    "    # Predict using seed string\n",
    "    pred_index = op_pred_char.eval(feed_dict={x:enc_seed}, session=sess)\n",
    "    char_vec = np.zeros([1, enc_seed.shape[2]])\n",
    "    char_vec[0][pred_index] = 1\n",
    "    pred_char = decode_string(char_vec)\n",
    "    \n",
    "    # Print last 50 chars and predicted char\n",
    "    #print \"{}, {}\".format(repr(new_seed), repr(pred_char))\n",
    "\n",
    "    # Decode and append the character to the end of the seed string\n",
    "    seed_string+=pred_char\n",
    "    \n",
    "# What's the final string?\n",
    "print seed_string"
   ]
  },
  {
   "cell_type": "code",
   "execution_count": null,
   "metadata": {
    "collapsed": true
   },
   "outputs": [],
   "source": []
  }
 ],
 "metadata": {
  "anaconda-cloud": {},
  "kernelspec": {
   "display_name": "Python [conda env:tensorflow]",
   "language": "python",
   "name": "conda-env-tensorflow-py"
  },
  "language_info": {
   "codemirror_mode": {
    "name": "ipython",
    "version": 2
   },
   "file_extension": ".py",
   "mimetype": "text/x-python",
   "name": "python",
   "nbconvert_exporter": "python",
   "pygments_lexer": "ipython2",
   "version": "2.7.12"
  }
 },
 "nbformat": 4,
 "nbformat_minor": 1
}
