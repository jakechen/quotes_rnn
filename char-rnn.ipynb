{
 "cells": [
  {
   "cell_type": "code",
   "execution_count": 1,
   "metadata": {
    "collapsed": false
   },
   "outputs": [
    {
     "name": "stdout",
     "output_type": "stream",
     "text": [
      "TensorFlow version: 0.10.0\n"
     ]
    }
   ],
   "source": [
    "import tensorflow as tf\n",
    "print 'TensorFlow version:', tf.__version__"
   ]
  },
  {
   "cell_type": "markdown",
   "metadata": {},
   "source": [
    "# Character Level RNN"
   ]
  },
  {
   "cell_type": "markdown",
   "metadata": {},
   "source": [
    "## Introduction"
   ]
  },
  {
   "cell_type": "markdown",
   "metadata": {},
   "source": [
    "Inspired by [@karpathy](https://github.com/karpathy)'s char-rnn but written in TensorFlow.\n",
    "\n",
    "In this example notebook we will be training on startup quotes in this tsv: https://github.com/startuptxt/startuptxt.github.io/blob/master/quotes.tsv"
   ]
  },
  {
   "cell_type": "markdown",
   "metadata": {},
   "source": [
    "## Prepare the Data"
   ]
  },
  {
   "cell_type": "markdown",
   "metadata": {},
   "source": [
    "### Download"
   ]
  },
  {
   "cell_type": "code",
   "execution_count": 4,
   "metadata": {
    "collapsed": false
   },
   "outputs": [],
   "source": [
    "import tweepy"
   ]
  },
  {
   "cell_type": "code",
   "execution_count": 6,
   "metadata": {
    "collapsed": false
   },
   "outputs": [],
   "source": [
    "f = open('./twitter_auth.txt')\n",
    "auth_strings = f.read().splitlines()\n",
    "f.close()"
   ]
  },
  {
   "cell_type": "code",
   "execution_count": 7,
   "metadata": {
    "collapsed": true
   },
   "outputs": [],
   "source": [
    "consumer_key = auth_strings[0]\n",
    "consumer_secret = auth_strings[1]\n",
    "access_token = auth_strings[2]\n",
    "access_token_secret = auth_strings[3]\n",
    "\n",
    "auth = tweepy.OAuthHandler(consumer_key, consumer_secret)\n",
    "auth.set_access_token(access_token, access_token_secret)\n",
    "\n",
    "api = tweepy.API(auth)"
   ]
  },
  {
   "cell_type": "code",
   "execution_count": 34,
   "metadata": {
    "collapsed": true
   },
   "outputs": [],
   "source": [
    "pages = 10\n",
    "tweet_texts = []"
   ]
  },
  {
   "cell_type": "code",
   "execution_count": 35,
   "metadata": {
    "collapsed": false
   },
   "outputs": [],
   "source": [
    "for i in range(pages):\n",
    "    tweets = api.user_timeline('nasa', page=(i+1))\n",
    "    for tweet in tweets:\n",
    "        tweet_texts.append(tweet.text)"
   ]
  },
  {
   "cell_type": "markdown",
   "metadata": {},
   "source": [
    "### Pre-process"
   ]
  },
  {
   "cell_type": "code",
   "execution_count": 36,
   "metadata": {
    "collapsed": false
   },
   "outputs": [
    {
     "data": {
      "text/plain": [
       "200"
      ]
     },
     "execution_count": 36,
     "metadata": {},
     "output_type": "execute_result"
    }
   ],
   "source": [
    "len(tweet_texts)"
   ]
  },
  {
   "cell_type": "code",
   "execution_count": 39,
   "metadata": {
    "collapsed": false
   },
   "outputs": [
    {
     "data": {
      "text/plain": [
       "[u'Did you know that you can spot the @Space_Station in the night sky? Find out when and where to look up:\\u2026 https://t.co/pdRPELhKM8',\n",
       " u\"In a sealed workshop, our robot ISAAC is making composite materials for tomorrow's air &amp; space vehicles. Learn more\\u2026 https://t.co/PpUQqnC3jI\",\n",
       " u'RT @NASAEarth: Q&amp;A w/ #EarthExpedition Oceans Melting Greenland scientists &amp; pilots tomorrow at 1pm ET: https://t.co/FJIkiNzWVA https://t.c\\u2026',\n",
       " u'Need some perspective? Here are 7 facts that might make you feel very small. Take a look: https://t.co/L7uY1GPBeq https://t.co/8oypX5NIfH',\n",
       " u'Would you go to space? @CNN Chief Medical Correspondent @DrSanjayGupta discusses why @Space_Station is an important\\u2026 https://t.co/9xB20gh2jI',\n",
       " u'Need something awesome to watch? We have an idea! Check out these HD Earth views from @Space_Station:\\u2026 https://t.co/awhBCPTdng',\n",
       " u'RT @NASA_Astronauts: \"Europe and Africa at night \\u2013 outlines of the continents from space.\" #AstroKate https://t.co/wts8BTI2cN',\n",
       " u'RT @NASA_Astronauts: \\u201cA thin shell of atmosphere between our planet and the universe.\" #AstroKate https://t.co/skVHE61KSN',\n",
       " u'Future crews can\\u2019t take everything w/ them on a #JourneyToMars, so they need ways to gather &amp; make supplies on site\\u2026 https://t.co/OG1d0NV6Y3',\n",
       " u'From drinking coffee to sleeping, check out how astronauts on @Space_Station do everyday activities in space:\\u2026 https://t.co/7zKly1tgZC',\n",
       " u'Our @NASASunEarth observatory captured magnificent loops arching above an active region on the sun. Take a look:\\u2026 https://t.co/qTi6aBPrj9',\n",
       " u'Splish, splash, this isn\\u2019t a bath. Divers practice recovering @NASA_Orion spacecraft at @NASA_Johnson:\\u2026 https://t.co/OyuAbDLvrn',\n",
       " u'What\\u2019s up for October? Find out what awesome things you can spot in the sky this month: https://t.co/uStbvjEiT2 https://t.co/eDL4RdQPXD',\n",
       " u'@916Birdman Actually, your cell phone is enabled by many @NASA_Technology components in it, like this photo sensor: https://t.co/13QUTaaeM8',\n",
       " u'@RanjanRajourya Actually, @NASA_Technology from @Space_Station helps provide clean drinking water here on Earth: https://t.co/eae7V8GnLT',\n",
       " u'RT @NASAhistory: Today @NASA celebrates its 58th #birthday! We officially opened for operation on October 1, 1958. https://t.co/R0oQNueX28',\n",
       " u\"Since our founding 58 yrs ago today, we've explored our home planet &amp; discovered the universe. What's next? Find ou\\u2026 https://t.co/upSBKs5wK9\",\n",
       " u'@DisparatePost @MarsCuriosity is a selfie pro! This video explains it all: https://t.co/88d2In4jMr',\n",
       " u'#ICYMI, @ESA_Rosetta spacecraft ended its mission Friday with a controlled impact into a comet\\u2019s surface. Details:\\u2026 https://t.co/QX0IweK17f',\n",
       " u'@xarene Thanks for the feedback!',\n",
       " u'@_daniellelebrun Oh no! Is there something missing? What should we change to make them less skippable? We welcome feedback!',\n",
       " u'@RheannaMarquez @ChipsOrChimps Not certain we can get you to outer space, but you can definitely space out with us: https://t.co/VmDLL8UYDy',\n",
       " u'@MlyStClr Is this good or bad? Some like to see the places we explore. Others want to hear from knowledgeable experts. What about you?',\n",
       " u\"@JaydaJolene Want to work for NASA? Here's where you can start: https://t.co/yhuvUIqnkv\",\n",
       " u'@NeilHollywood @NASApeople Thanks for the feedback &amp; for following. Trying to tell the stories of amazing people who make it all happen',\n",
       " u'@upsetcactus oh no! Have questions? Tweet them to @NASAClimate. Thanks for watching',\n",
       " u'@EmilyTorrens Thanks for watching. Have questions? Tweet them to @NASAClimate',\n",
       " u'What happened \\u2018This Week @NASA?\\u2019 Leaders met to discuss latest in space exploration at #IAC2016, @ESA_Rosetta missi\\u2026 https://t.co/9VxBPyGb2K',\n",
       " u\"Aboard @Space_Station, #AstroKate tested the BEAM module while @JAXA_en's Takuya Onishi installed the Group Combust\\u2026 https://t.co/x9OHbya8na\",\n",
       " u'Satellite imagery shows how a tropical storm morphed into Hurricane Matthew, a category 3 storm in the Caribbean Se\\u2026 https://t.co/x3ftSuYHjJ',\n",
       " u'The dark side of\\u2026a galaxy. The shining disk of a spiral galaxy sits approx 25 million light-years away from Earth:\\u2026 https://t.co/23hRS2gp1u',\n",
       " u'@hannibaltraven You can look at real-time images from our solar observatory in all different wavelengths here: https://t.co/PUFIiyCFTv',\n",
       " u\"Yesterday, @Space_Station's expandable module, #BEAM, was opened up for tests and equipment checks. Take a look:\\u2026 https://t.co/bhESszLLSq\",\n",
       " u'@Nialas_Dubh Correct, the sun doesn\\u2019t do flips\\u2026but our solar observatory did a 360\\xb0 maneuver to take this pic. More: https://t.co/3O0g9wm5Q2',\n",
       " u'It\\u2019s Friday\\u2026which seems like a good excuse to look at awesome images from across the universe. Space out with us:\\u2026 https://t.co/pTCEbDsrSB',\n",
       " u'Farewell @ESA_Rosetta! Nice #CometLanding. Thanks for all the great science. Congratulations to @ESA &amp; partners on\\u2026 https://t.co/zo5oJNkMOx',\n",
       " u'RT @esaoperations: LOSS OF SIGNAL #LOS European Space Agency confirms end of contact w/ @ESA_Rosetta. Operations complete at 720mn km from\\u2026',\n",
       " u'RT @ESA_Rosetta: Incredible view 1.2 km from the surface! #CometLanding https://t.co/BMzkfFMKp4 https://t.co/N5riAfHxEV',\n",
       " u'RT @esaoperations: \"Less than 200m!!! 3 min to impact\" @ESA_Rosetta #CometLanding',\n",
       " u'RT @ESA_Rosetta: Busy scanning my target #CometLanding region! https://t.co/CYhEnl35TT',\n",
       " u'RT @CassiniSaturn: Thank you, @ESA_Rosetta. Your mission is coming to an end, but your legacy never will. #CometLanding #GoodbyeRosetta htt\\u2026',\n",
       " u'.@ESA_Rosetta enters final chapter of mission, taking many once-in-a-lifetime measurements. More on #CometLanding:\\u2026 https://t.co/lGThlRbW7E',\n",
       " u'Ahead of #CometLanding, learn all about the amazing science that @ESA_Rosetta has accomplished. Watch on NASA TV:\\u2026 https://t.co/X7ds0pDE3I',\n",
       " u'Did you know that @ESA_Rosetta is an @ESA mission w/ contributions from ESA members &amp; @NASA? See our contributions:\\u2026 https://t.co/NOiSxOHhWT',\n",
       " u'RT @MarsCuriosity: To @ESA_Rosetta on the final chapter of your great mission: Thank you for the wonder, the photos &amp; most of all, the scie\\u2026',\n",
       " u\"RT @esaoperations: One hour left in @ESA_Rosetta's magnificent journey #CometLanding #67P https://t.co/oP7tuRBDuP\",\n",
       " u'RT @ESA_Rosetta: As well as taking images, I\\u2019m tasting comet gas, sensing plasma and more, right to the end of #CometLanding!  https://t.co\\u2026',\n",
       " u\"RT @ESA_Rosetta: Here's the rest of my last NAVCAM image set, used to help refine #CometLanding time &amp; final commands  https://t.co/RIpMIIn\\u2026\",\n",
       " u'RT @ESA_Rosetta: #CometLanding site just coming in to view in lower left! Image taken 02:17UT with wide-angle camera: https://t.co/64ElmUBq\\u2026',\n",
       " u'LIVE NOW: We say #GoodbyeRosetta as @ESA_Rosetta mission ends w/ controlled descent #CometLanding. Watch on NASA TV\\u2026 https://t.co/mfvPlMXjfD',\n",
       " u'.@ESA_Rosetta will end w/ controlled decent onto the surface of its comet on Friday. Watch on NASA TV at 6:15am ET:\\u2026 https://t.co/DVVz55UJ1X',\n",
       " u'Our next ocean monitoring spacecraft will monitor microscopic ocean life and its impact on Earth\\u2019s climate. Details\\u2026 https://t.co/9YzDrS8n4X',\n",
       " u'RT @NASApeople: See why Mamta Nagaraja, Space Communications Lead, is proud to work for @NASA #NASAProud https://t.co/jqvGLX7otT',\n",
       " u'RT @NASA: Over the next few weeks, we\\u2019ll share stories of real employees and why they are #NASAProud: https://t.co/uMLNDsV5ra https://t.co/\\u2026',\n",
       " u'RT @NASAJPL: Farewell, @ESA_Rosetta. Take a look back at the @ESA mission, about to conclude on the surface of #comet #67P.  https://t.co/z\\u2026',\n",
       " u'@SaG_King_Tarius Feel free to #SpotTheStation in the night sky. Get alerts when @Space_Station flies over you: https://t.co/MGJIkympUx',\n",
       " u\"Next generation training has astronauts learning to fly @BoeingDefense's CST-100 #Starliner spacecraft\\u2026 https://t.co/pl3wgxIHNx\",\n",
       " u'New @ISS_Research opportunities on @Space_Station with @NSF partnering with @ISS_CASIS to fund  new science:\\u2026 https://t.co/lChlNDlvPh',\n",
       " u'@MarkW_KVUE Yea, we agree\\u2026space and rockets are awesome! Have you checked out our YouTube channels for more? https://t.co/rmSCzON1Lw',\n",
       " u'Want to know how a telescope the size of a tennis court is supported? Take a look at @NASAWebb here:\\u2026 https://t.co/n9wcJRoI2n',\n",
       " u'This dual-star system is not only impressive, but produces a flood of gamma rays, the highest-energy form of light:\\u2026 https://t.co/D6TslgvjZv',\n",
       " u'Mars\\u2019 crust has contributed to its atmosphere over time, according to new evidence found by @MarsCuriosity rover:\\u2026 https://t.co/nuBV1s3kpr',\n",
       " u'Imagine climbing a mountain that is million feet above sea level. Welcome to spacewalking on the @Space_Station! https://t.co/oIs6juq7ry',\n",
       " u'RT @ISS_Research: #TBT - one year ago, @astro_kjell hand-brewed #coffee in a space cup aboard @Space_Station. https://t.co/FtsDq7qJBi #Nati\\u2026',\n",
       " u'@fa_tima11 Yes! Follow us for your daily dose of space! https://t.co/MOlmaV7zQm',\n",
       " u\"RT @Space_Station: Even in space it's #NationalCoffeeDay! Did you know there is an espresso machine on the space station? https://t.co/uyU7\\u2026\",\n",
       " u'.@NASAArmstrong began Sept 1946 when the #NACA sent 13 staffers to Mojave Desert to research supersonic flight:\\u2026 https://t.co/R13QVxQ8Lq',\n",
       " u\"Near-perfect launch conditions paved the way for our Scientific Balloon Team's two launches this week. Learn more:\\u2026 https://t.co/gkdyxmfllG\",\n",
       " u\"We're celebrating 40 years of safer aviation made possible through our Aviation Safety Reporting System. Details:\\u2026 https://t.co/dBMHdB9O6N\",\n",
       " u'The 1st flight of @NASA_SLS will do double duty as a platform to launch 13 cubesats as we plan our #JourneytoMars:\\u2026 https://t.co/LbxzP86jQG',\n",
       " u'When you can\\u2019t just pack all the food humans need for a #JourneyToMars, how do you survive? You learn to grow it!\\u2026 https://t.co/CNZIPuL2iV',\n",
       " u\"The gravity of Pandora's Cluster, seen here by @NASAspitzer, is so strong that it magnifies images of other galaxie\\u2026 https://t.co/ZI1lyPzU1a\",\n",
       " u'LIVE at 2pm ET: Ask our experts about sequencing DNA in space in an /r/science @Reddit AMA: https://t.co/gdfyw9DVZG https://t.co/DgeYXpFHo4',\n",
       " u'Our planet is nestled in the center of the Van Allen belts, where high-energy particles are trapped by Earth\\u2019s magn\\u2026 https://t.co/j0nyCqUUYv',\n",
       " u\"Admin. Bolden speaks to elementary students at #IAC2016 about our #JourneyToMars. See how we'll send humans to Mars\\u2026 https://t.co/BBrAguJJr1\",\n",
       " u\"RT @OSIRISREx: A belated Sample Return Day present - an image of my Sample Return Capsule taken by StowCam during last week's checkout. I l\\u2026\",\n",
       " u'Join us tomorrow for a @reddit AMA /r/science at 2 pm ET on sequencing DNA in space. Details:\\u2026 https://t.co/k5MCe0nxuu',\n",
       " u'Admin. Bolden &amp; Avi Blasberger, director general of Israel Space Agency, sign an agreement regarding international\\u2026 https://t.co/7WZpV5a7xL',\n",
       " u'Thomas Zurbuchen named new head of our science directorate. Brings \"diverse background &amp; hands-on knowledge\" to rol\\u2026 https://t.co/Z7ieraZXJ0',\n",
       " u\"Using new test stands @NASA_Marshall, we'll push the limits of @NASA_SLS rocket\\u2014set to take us farther into space:\\u2026 https://t.co/2y65qkiJ2Y\"]"
      ]
     },
     "execution_count": 39,
     "metadata": {},
     "output_type": "execute_result"
    }
   ],
   "source": [
    "tweet_texts[:80]"
   ]
  },
  {
   "cell_type": "code",
   "execution_count": null,
   "metadata": {
    "collapsed": true
   },
   "outputs": [],
   "source": []
  }
 ],
 "metadata": {
  "anaconda-cloud": {},
  "kernelspec": {
   "display_name": "Python [conda env:tensorflow]",
   "language": "python",
   "name": "conda-env-tensorflow-py"
  },
  "language_info": {
   "codemirror_mode": {
    "name": "ipython",
    "version": 2
   },
   "file_extension": ".py",
   "mimetype": "text/x-python",
   "name": "python",
   "nbconvert_exporter": "python",
   "pygments_lexer": "ipython2",
   "version": "2.7.12"
  }
 },
 "nbformat": 4,
 "nbformat_minor": 1
}
